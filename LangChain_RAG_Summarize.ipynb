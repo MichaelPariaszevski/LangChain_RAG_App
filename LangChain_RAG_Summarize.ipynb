{
 "cells": [
  {
   "cell_type": "markdown",
   "metadata": {},
   "source": [
    "# Summarizing with LangChain and OpenAI"
   ]
  },
  {
   "cell_type": "markdown",
   "metadata": {},
   "source": [
    "##### 1) When you see `from langchain.chat_models import ChatOpenAI` change it to `from langchain_openai import ChatOpenAI`\n",
    "\n",
    "##### 2) Also, instead of `answer = chain.run(q)` use `answer = chain.invoke(q)`"
   ]
  },
  {
   "cell_type": "code",
   "execution_count": null,
   "metadata": {},
   "outputs": [],
   "source": [
    "import os \n",
    "from dotenv import load_dotenv, find_dotenv \n",
    "\n",
    "load_dotenv(find_dotenv(), override=True)"
   ]
  },
  {
   "cell_type": "markdown",
   "metadata": {},
   "source": [
    "### 1. Summarizing Using a Basic Prompt"
   ]
  },
  {
   "cell_type": "code",
   "execution_count": 1,
   "metadata": {},
   "outputs": [],
   "source": [
    "from langchain_openai import ChatOpenAI \n",
    "from langchain.schema import AIMessage, HumanMessage, SystemMessage "
   ]
  },
  {
   "cell_type": "code",
   "execution_count": 2,
   "metadata": {},
   "outputs": [],
   "source": [
    "text= r\"\"\"\n",
    "Mojo combines the usability of Python with the performance of C, unlocking unparalleled programmability \\\n",
    "of AI hardware and extensibility of AI models.\n",
    "Mojo is a new programming language that bridges the gap between research and production \\ \n",
    "by combining the best of Python syntax with systems programming and metaprogramming.\n",
    "With Mojo, you can write portable code that’s faster than C and seamlessly inter-op with the Python ecosystem.\n",
    "When we started Modular, we had no intention of building a new programming language. \\\n",
    "But as we were building our platform with the intent to unify the world’s ML/AI infrastructure, \\\n",
    "we realized that programming across the entire stack was too complicated. Plus, we were writing a \\\n",
    "lot of MLIR by hand and not having a good time.\n",
    "And although accelerators are important, one of the most prevalent and sometimes overlooked \"accelerators\" \\\n",
    "is the host CPU. Nowadays, CPUs have lots of tensor-core-like accelerator blocks and other AI acceleration \\\n",
    "units, but they also serve as the “fallback” for operations that specialized accelerators don’t handle, \\\n",
    "such as data loading, pre- and post-processing, and integrations with foreign systems. \\\n",
    "\"\"\""
   ]
  },
  {
   "cell_type": "code",
   "execution_count": 3,
   "metadata": {},
   "outputs": [],
   "source": [
    "messages=[\n",
    "    SystemMessage(content=\"You are an expert copywriter with expertize in sumarizing documents.\"), \n",
    "    HumanMessage(content=f\"Please provide a short and concise summary of the following text:\\n TEXT: {text}\")\n",
    "] \n",
    "\n",
    "llm=ChatOpenAI(model_name=\"gpt-3.5-turbo\", temperature=0)"
   ]
  },
  {
   "cell_type": "code",
   "execution_count": 4,
   "metadata": {},
   "outputs": [
    {
     "data": {
      "text/plain": [
       "238"
      ]
     },
     "execution_count": 4,
     "metadata": {},
     "output_type": "execute_result"
    }
   ],
   "source": [
    "llm.get_num_tokens(text)"
   ]
  },
  {
   "cell_type": "code",
   "execution_count": 5,
   "metadata": {},
   "outputs": [
    {
     "name": "stdout",
     "output_type": "stream",
     "text": [
      "content=\"Mojo is a new programming language that combines Python's usability with C's performance, enabling advanced programmability of AI hardware and models. It aims to bridge the gap between research and production by offering faster, portable code that seamlessly integrates with the Python ecosystem. The language was developed by Modular to simplify programming across the ML/AI stack and optimize performance on host CPUs, which play a crucial role in AI operations.\" response_metadata={'token_usage': {'completion_tokens': 82, 'prompt_tokens': 278, 'total_tokens': 360}, 'model_name': 'gpt-3.5-turbo-0125', 'system_fingerprint': None, 'finish_reason': 'stop', 'logprobs': None} id='run-7bdcca1d-5801-4c91-8ed8-6486cf235fa0-0' usage_metadata={'input_tokens': 278, 'output_tokens': 82, 'total_tokens': 360}\n",
      "----------------------------------------------------------------------------------------------------\n",
      "Mojo is a new programming language that combines Python's usability with C's performance, enabling advanced programmability of AI hardware and models. It aims to bridge the gap between research and production by offering faster, portable code that seamlessly integrates with the Python ecosystem. The language was developed by Modular to simplify programming across the ML/AI stack and optimize performance on host CPUs, which play a crucial role in AI operations.\n"
     ]
    }
   ],
   "source": [
    "summary_output=llm.invoke(messages) \n",
    "\n",
    "print(summary_output) \n",
    "print(\"-\"*100) \n",
    "print(summary_output.content)"
   ]
  },
  {
   "cell_type": "markdown",
   "metadata": {},
   "source": [
    "### 2. Summarizing Using Prompt Templates (Length must be Lower than Model's Allowed Token Length)"
   ]
  },
  {
   "cell_type": "code",
   "execution_count": 6,
   "metadata": {},
   "outputs": [],
   "source": [
    "from langchain.prompts import PromptTemplate\n",
    "from langchain.chains import LLMChain"
   ]
  },
  {
   "cell_type": "code",
   "execution_count": 8,
   "metadata": {},
   "outputs": [],
   "source": [
    "template=\"\"\"   \n",
    "Write a concise and short summary of the following text: \n",
    "TEXT: `{text}`\n",
    "Translate the summary to {language}. \n",
    "\"\"\"\n",
    "\n",
    "prompt=PromptTemplate(\n",
    "    input_variables=[\"text\", \"language\"], \n",
    "    template=template\n",
    "    )"
   ]
  },
  {
   "cell_type": "code",
   "execution_count": 9,
   "metadata": {},
   "outputs": [
    {
     "data": {
      "text/plain": [
       "261"
      ]
     },
     "execution_count": 9,
     "metadata": {},
     "output_type": "execute_result"
    }
   ],
   "source": [
    "llm.get_num_tokens(prompt.format(text=text, language=\"English\"))"
   ]
  },
  {
   "cell_type": "code",
   "execution_count": 13,
   "metadata": {},
   "outputs": [
    {
     "name": "stdout",
     "output_type": "stream",
     "text": [
      "{'text': 'Mojo is a new programming language that combines the usability of Python with the performance of C, allowing for unparalleled programmability of AI hardware and extensibility of AI models. It aims to bridge the gap between research and production by offering faster code than C and seamless integration with the Python ecosystem. Mojo was developed by Modular to simplify programming across the entire ML/AI stack and make use of the host CPU as an important accelerator for various operations.', 'language': 'English'}\n",
      "----------------------------------------------------------------------------------------------------\n",
      "Mojo is a new programming language that combines the usability of Python with the performance of C, allowing for unparalleled programmability of AI hardware and extensibility of AI models. It aims to bridge the gap between research and production by offering faster code than C and seamless integration with the Python ecosystem. Mojo was developed by Modular to simplify programming across the entire ML/AI stack and make use of the host CPU as an important accelerator for various operations.\n"
     ]
    }
   ],
   "source": [
    "chain=LLMChain(llm=llm, prompt=prompt) \n",
    "\n",
    "response=chain.invoke({\"text\": text, \"language\": \"English\"}) \n",
    "\n",
    "print(response) \n",
    "print(\"-\"*100) \n",
    "print(response[\"text\"])"
   ]
  },
  {
   "cell_type": "code",
   "execution_count": 14,
   "metadata": {},
   "outputs": [
    {
     "name": "stdout",
     "output_type": "stream",
     "text": [
      "{'text': 'Mojo es un nuevo lenguaje de programación que combina la usabilidad de Python con el rendimiento de C, permitiendo una programabilidad sin igual del hardware de IA y la extensibilidad de los modelos de IA. Con Mojo, se puede escribir código portátil más rápido que C y trabajar de forma integrada con el ecosistema de Python. Este lenguaje surge de la necesidad de simplificar la programación en el ámbito de la inteligencia artificial y la máquina aprendizaje, facilitando la transición de la investigación a la producción. Además, se destaca la importancia de los aceleradores de CPU en el procesamiento de datos y operaciones de IA.', 'language': 'Spanish'}\n",
      "----------------------------------------------------------------------------------------------------\n",
      "Mojo es un nuevo lenguaje de programación que combina la usabilidad de Python con el rendimiento de C, permitiendo una programabilidad sin igual del hardware de IA y la extensibilidad de los modelos de IA. Con Mojo, se puede escribir código portátil más rápido que C y trabajar de forma integrada con el ecosistema de Python. Este lenguaje surge de la necesidad de simplificar la programación en el ámbito de la inteligencia artificial y la máquina aprendizaje, facilitando la transición de la investigación a la producción. Además, se destaca la importancia de los aceleradores de CPU en el procesamiento de datos y operaciones de IA.\n"
     ]
    }
   ],
   "source": [
    "chain=LLMChain(llm=llm, prompt=prompt) \n",
    "\n",
    "response=chain.invoke({\"text\": text, \"language\": \"Spanish\"}) \n",
    "\n",
    "print(response) \n",
    "print(\"-\"*100) \n",
    "print(response[\"text\"])"
   ]
  },
  {
   "cell_type": "markdown",
   "metadata": {},
   "source": [
    "### 3. Summarizing using StuffDocumentsChain"
   ]
  },
  {
   "cell_type": "code",
   "execution_count": null,
   "metadata": {},
   "outputs": [],
   "source": []
  }
 ],
 "metadata": {
  "kernelspec": {
   "display_name": "LangChain_1_venv",
   "language": "python",
   "name": "python3"
  },
  "language_info": {
   "codemirror_mode": {
    "name": "ipython",
    "version": 3
   },
   "file_extension": ".py",
   "mimetype": "text/x-python",
   "name": "python",
   "nbconvert_exporter": "python",
   "pygments_lexer": "ipython3",
   "version": "3.9.19"
  }
 },
 "nbformat": 4,
 "nbformat_minor": 2
}
